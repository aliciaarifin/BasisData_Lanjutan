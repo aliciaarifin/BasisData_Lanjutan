{
 "cells": [
  {
   "cell_type": "markdown",
   "metadata": {},
   "source": [
    "# TUGAS 1\n",
    "Basis Data Lanjutan<br>\n",
    "<br>\n",
    "Alicia Arifin, 20214920001, Statistika<br>\n",
    "Matana University"
   ]
  },
  {
   "cell_type": "markdown",
   "metadata": {},
   "source": [
    "# BIG DATA\n",
    "## Apa itu Big Data??\n",
    "Lakukan Eksplorasi tentang Big Data secara lengkap dan Jelaskan Konsep Big Data!\n",
    "\n",
    "Big data adalah data yang sangat besar secara jumlah, lebih kompleks dan bervariasi, dan transmisinya cepat (datanya masuk dengan sangat cepat). kebanyakan struktur big data adalah data tidak terstruktur. Menangani big data berbeda dengan data tradisional, big data perlu penanganan yang khusus. Big data merupakan data yang memiliki sumber yang bervariasi. \n",
    "<br><br>\n",
    "Ciri khas big data :\n",
    "- Data bari sumber yang sangat banyak.\n",
    "- Banyak tipe data (structurd data, semi-structured data, unstructured data)\n",
    "- Kecepatan saat membuat big data.\n",
    "- Tingkat kepercayaan big data dapat dipercaya.\n",
    "- Memiliki business value dari data yang diambil.\n",
    "- Hasil output yang bervariasi dan dapat diubah. \n",
    "\n",
    "Seberapa besar big data? Big data merupakan data yang jumlahnya baris dan kolom yang sangat banyak. Sehingga semakin besar big data, data tersebut akan semakin bervariasi dan semakin kompleks. dan tetntu ukuran filenya juga akan semakin besar.  Sumber big data dapat berasal dari people to people, people to machine, dan machine to machine. \n",
    "\n",
    "Bagaimana proses bigdata (arsitektur big data)?? Big data dimulai dari sumber data, dapat berasal dari sosial media, web, internet, dan transaksi bisnis. semua data yang masuk dinamakan data ingest.\n",
    "\n",
    "\n",
    "Ekosistem big data atau cara kerja big data bisa melalui 2 opsi. Opsi pertama adalah langsung diproses dan proses dibagi menjadi batch\" (bagian) kecil. Data yang langsung diproses membutuhkan satu mesin dan membutuhkan waktu yang lebih lama sedikit karena data yang diproses sangat banyak ke dalam satu mesin saja. Kalau data yang dibagi menjadi batch-batch akan membutuhkan energi yang banyak karena membutuhkan banyak mesin, dan waktu bisa jadi lebih cepat karena data akan dibagi menjadi batch-batch. \n",
    "\n",
    "- Langsung proses: data yang masuk (data ingest) dilakukan stream processing, lalu dapat data yang dirapikan (data organizing)\n",
    "- batch proses : data yang masuk (data ingest) dilakukan match processing , lalu data organizing. Ketika data kurang rapi atau terdapat kekurangan, data dapat balik ke batch processing, lalu balik lagi ke data organizing. Proses ini dapat berulang\n",
    "\n",
    "Setelah mendapatkan data, data dapat dilakukan sesuai yang dituju, contohnya untuk data mining, membuat visualisasi data, dan membuat dashboard. Aplikasi big data dapat digunakan untuk memonitor dan melacak aplikasi, analisis dan mendapat temuan aplikasi, membuat perkembangan produk.Big data memiliki beberapa kelebihan, kelebihannya adalah meningkatkan pengambilan keputusan, analisis yang lebih dalam dan akurat, meningkatkan produktifitas dan efisiensi, meningkatkan kepuasan pelanggan, inovasi yang didasari oleh data, meningkatkan operasional bisnis, dan meningkatkan kualitas data.\n",
    "\n",
    "Meskipun banyaknya kelebihan big data, big data juga terdapat tantangan. Big data merupakan data yang sangat besar, tidak ada mesin komputasi yang dapat menyimpan data yang banyak, maka data disimpan ke dalam komputer-komputer kecil. Ketika data yang sangat besar disimpan ke dalam suatu storage, bisa jadi terdapat data yang hilang saat penyimpanan. Data yang masuk ke dalam big data bergerak dalam kecepatan yang tinggi. Data yang masuk bisa mencapai Petabytes hingga Exabytes. Memproses data yang masuk sangat cepat juga sulit untuk dilakukan. Data yang masuk dengan cepat dapat menimbulkan kesulitan saat mau diproses. Maka dari itu, big data cenderung membutuhkan pengeluarna yang banyak untuk membuat sistemnya. \n",
    "\n",
    "\n",
    "## Mengapa statistisi perlu belajar Big Data??\n",
    "Statistisi akan selalu belajar dengan data. Pada era jaman sekarang yang data semakin lama akan semakin besar, data yang tradisional akan perlahan menjadi big data. Statistisi memang hanya menganalisis data, analisis akan berjalan ketika data telah tersedia. Meskipun statistisi hanya menganalisis, setatistisi juga perlu belajar bagaimana cara mengekstrak data dari database. Seiring berjalannya waktu penyimpanan database tidak hanya menggunakan SQL, melainkan bahasa database lainnya seperti NoSQL. Maka, setiap statistisi perlu beradaptasi mengekstrak big data agar memudahkan proses analisis ke depannya dengan waktu yang efisien dan tidak ada kendala dalam mengesktrak data.\n",
    "\n",
    "\n",
    "## Apa itu MongoDB?\n",
    "MongoDB adalah dokumen database dengan struktur fleksibel untuk menyimpan data. MongoDB database menyimpnan data tidak seperti data pada umumnya yang menggunakan kolom dan baris. setiap record data dideskripsikan seperti file JSON atau biasa disebut BSON (representatif biner pada data). MongoDB menggunakan file format JSON dalam menyimpan data. Dokumen database ini sangat fleksibel, dapat banyak suatu struktur dokumen dalam data. MongoDB dibentuk untuk memudahkan kerja komputer dengan membagi data ke beberapa mesin yang kecil untuk membuat sistim yang cepat dan dapat handle data yang sangat banyak.  [referensi](https://www.mongodb.com/resources/products/fundamentals/why-use-mongodb#:~:text=MongoDB%20is%20built%20on%20a,like%20format%20to%20store%20documents.)\n",
    "\n",
    "\n",
    "## MongoDB dan Python \n"
   ]
  },
  {
   "cell_type": "markdown",
   "metadata": {},
   "source": [
    "### Integrasi Python ke MongoDB\n",
    "Hal yyang harus dilakukan adalah men-install [MongoDB community edition](https://www.mongodb.com/products/self-managed/community-edition). setelah diinstall akan muncul aplikasi MongoDB Compass. seperti pada Gambar 1 di bawah ini.\n",
    "\n",
    "![Gambar 1. Tampilan Awal MongoDB Compass](Tugas1/gambar_tugas1/tugas1_(1).png)\n",
    "\n",
    "\n",
    "Untuk melakukan integrasi ke python, hal yang perlu dilakukan adalah membuat connection. Untuk membuat connection, tekan ikon \"Add New Connection\" di layar atau klik \"+\" pada connections di kiri atas, di bawah My Quaries pada Gambar 2. Lalu, tampilan dari new connection dapat dilihat pada Gambar 3.\n",
    "![Gambar 2. Tombol + untuk Menambahkan Connection](Tugas1/gambar_tugas1/tugas1_(8).png)\n",
    "![Gambar 3. Setelah Klik Add New Connection](Tugas1/gambar_tugas1/tugas1_(2).png)\n",
    "\n",
    "Untuk melakukan integrasi dengan python, URI dicopy terlebih dahulu untuk diconnect pada python. Integrasi MongoDB dan Python pada tugas ini akan menggunakan VS Code. Pada VS Code, extensions yang diperlukan untuk melakukan integrasi adalah \"MongoDB for VS Code\". Dipastikan VS Code telah diinstall, seperti Gambar 4 di bawah ini.\n",
    "\n",
    "![Gambar 4. Tampilan Extension MongoDB Pada VS Code ](Tugas1/gambar_tugas1/tugas1_(4).png)\n",
    "\n",
    "Lalu, klik connect with connection strings, lalu pase URI dari apliaksi MongoDB Compass (Gambar 5 dan 6).\n",
    "\n",
    "![Gambar 5. Tampilan Extension MongoDB Ketika di Klik](Tugas1/gambar_tugas1/tugas1_(7).png)\n",
    "\n",
    "![Gambar 6. Paste URI dari MongoDB Compass ](Tugas1/gambar_tugas1/tugas1_(6).png)\n",
    "\n",
    "Lalu, klik Enter pada keyboard. Nanti di bagian kiri terdapat logo MongoDB berbentuk Daun, da terlihat sudah terconnect MongoDB pada VS Code, seperti Gambar 7 di bawah ini.\n",
    "\n",
    "\n",
    "![Gambar 6. Tampilan MongoDB sudah connect ke VS Code](Tugas1/gambar_tugas1/tugas1_(5).png)\n",
    "\n",
    "\n",
    "Dengan menggunakan step ini, kita sudah berhasil menintegrasi MongoDB pada VS Code. Untuk menambahkan data base, dapat melakukan 2 cara, yaitu menambahkan langsung di aplikasi MongoDB Compass dan menambahkan menggunakan playground. "
   ]
  },
  {
   "cell_type": "markdown",
   "metadata": {},
   "source": [
    "### Menggunakan playground\n",
    "Untuk menambahkan database dan collection (semacam file), bisa melakukan tanda \"+\" di samping connection\n",
    "![Gambar 7. Paste URI dari MongoDB Compass ](Tugas1/gambar_tugas1/tugas1_(3).png)\n",
    "\n",
    "Lalu akan muncul tampilan playground dengan codingan di bawah ini. Isi nama database dan collection yang ingin ditambahkan. Lalu, run filenya."
   ]
  },
  {
   "cell_type": "markdown",
   "metadata": {},
   "source": [
    "```{js}\n",
    "const database = 'NEW_DATABASE_NAME';\n",
    "const collection = 'NEW_COLLECTION_NAME';\n",
    "\n",
    "// Create a new database.\n",
    "use(database);\n",
    "\n",
    "// Create a new collection.\n",
    "db.createCollection(collection);\n",
    "```"
   ]
  },
  {
   "cell_type": "markdown",
   "metadata": {},
   "source": [
    "### Import Data Python ke MongoDB\n",
    "untuk mengimport data ke mongo DB dapat melalui python atau MongoDB Compass. Data yang dimasukkan ke dalam MongoDB biasanya termasuk big data, maka akan kita coba masukkan file csv yang namanya events dan orders. File events ini adalah data tentang kejadian memasukkan ke keranjang (add to cart) pada suatu e-commerce. Data events sebnayak 2,4 juta baris dan 10 kolom. File orders adalah data tentang barang yang sudah dipesan oleh suatu e-commerce. Data orders berisi sebanyak 120 ribu dan 7 kolom.  \n",
    "#### Import di MongoDB Compass\n",
    "Tahapannya \n",
    "- Klick add data, tampilan pada Gambar 8.\n",
    "- pilih jenis file yang akan diimport, tampilan pada Gambar 9.\n",
    "- check spasi antar kolom, tampilan pada Gambar 10.\n",
    "- menunggu hingga selesai dimport dan tampilan pada Gambar 11.\n",
    "<br>\n",
    "<br>\n",
    "![Gambar 8. Klik Add Data ](Tugas1/gambar_tugas1/import_MDBC(1).png)\n",
    "![Gambar 9. Pilih jenis file yang akan diimport](Tugas1/gambar_tugas1/import_MDBC(4).png)\n",
    "![Gambar 10. Check spasi antar kolom](Tugas1/gambar_tugas1/import_MDBC(3).png)\n",
    "![Gambar 11. Tampilan ketika sudah selesai dimport](Tugas1/gambar_tugas1/import_MDBC(2).png)\n"
   ]
  },
  {
   "cell_type": "markdown",
   "metadata": {},
   "source": [
    "#### Import melalui Python\n",
    "untuk menimport data ke MongoDB menggunakan Python, hal yang perlu dilaukan adalah coding seperti codingan di bawah ini.\n",
    "```{python}\n",
    "import csv\n",
    "from pymongo import MongoClient\n",
    "\n",
    "# MongoDB connection\n",
    "client = MongoClient('url connection')\n",
    "db = client['name_of_database']\n",
    "collection = db['name_of_collection']\n",
    "\n",
    "# CSV file path\n",
    "csv_file_path = \"file_path.csv\"\n",
    "\n",
    "with open(csv_file_path, mode='r') as csvfile:\n",
    "    reader = csv.DictReader(csvfile)\n",
    "    for row in reader:\n",
    "        collection.insert_one(row)\n",
    "\n",
    "```\n",
    "Ketika code sudah selesai di-run, refresh MongoDB database. Data akan muncul sesuai dengan data base dan collection yang dituju."
   ]
  },
  {
   "cell_type": "markdown",
   "metadata": {},
   "source": [
    "# THANKYOU\n",
    "feel free to contact if there's a question! Thanks a lot!"
   ]
  }
 ],
 "metadata": {
  "kernelspec": {
   "display_name": ".venv",
   "language": "python",
   "name": "python3"
  },
  "language_info": {
   "codemirror_mode": {
    "name": "ipython",
    "version": 3
   },
   "file_extension": ".py",
   "mimetype": "text/x-python",
   "name": "python",
   "nbconvert_exporter": "python",
   "pygments_lexer": "ipython3",
   "version": "3.13.2"
  }
 },
 "nbformat": 4,
 "nbformat_minor": 2
}
